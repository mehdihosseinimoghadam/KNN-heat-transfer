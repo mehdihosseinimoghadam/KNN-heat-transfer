{
  "nbformat": 4,
  "nbformat_minor": 0,
  "metadata": {
    "colab": {
      "name": "KNN Heat Teansfer.ipynb",
      "provenance": [],
      "collapsed_sections": []
    },
    "kernelspec": {
      "display_name": "Python 3",
      "name": "python3"
    }
  },
  "cells": [
    {
      "cell_type": "code",
      "metadata": {
        "id": "aTF9iK35lXNm"
      },
      "source": [
        "pip install scipy plyfile polyscope robust_laplacian"
      ],
      "execution_count": null,
      "outputs": []
    },
    {
      "cell_type": "code",
      "metadata": {
        "id": "Il9JEHeiHntF"
      },
      "source": [
        "import itertools\n",
        "import numpy as np\n",
        "import pandas as pd\n",
        "import matplotlib.pyplot as plt\n",
        "from mpl_toolkits.mplot3d import Axes3D\n",
        "from sklearn.neighbors import NearestNeighbors"
      ],
      "execution_count": null,
      "outputs": []
    },
    {
      "cell_type": "code",
      "metadata": {
        "id": "5XkrdyuIIDT3"
      },
      "source": [
        "def diffuse(data,source,heat_amount,n_neighbors):\n",
        "  '''\n",
        "    KNN Heat Transfer\n",
        "    Return a heated point cloud\n",
        "\n",
        "\n",
        "    Parameters\n",
        "    ----------\n",
        "    data (pandas data frame): This is the input point cloud\n",
        "\n",
        "    source (int): Index of the heat source point\n",
        "\n",
        "    heat_amount (int): The amount of heat in source\n",
        "\n",
        "    n_neighbors (int): The numer of neighbors in KNN algorithm  \n",
        "\n",
        "\n",
        "    Returns\n",
        "    -------\n",
        "    Heated point cloud               \n",
        "\n",
        "  '''\n",
        "\n",
        "\n",
        "  nbrs = NearestNeighbors(n_neighbors=n_neighbors, algorithm='ball_tree').fit(data)\n",
        "  distances, indices = nbrs.kneighbors(data)\n",
        "  data[\"Heat\"] = 0\n",
        "  processed = [source]\n",
        "  data[\"Heat\"][source] = heat_amount\n",
        "  heat_amount = heat_amount - 1\n",
        "  while (len(processed) < len(indices[:,0])) and (heat_amount > 0) :   #### may we want to add that NN is not empty\n",
        "    if (len(indices[source,:].shape)) == 1:\n",
        "       NN = indices[source,:][1:]\n",
        "    else: \n",
        "      NN = indices[source,:][:,1:]\n",
        "      NN = np.reshape(indices[source,:][:,1:],(indices[source,:][:,1:].shape[0]*indices[source,:][:,1:].shape[1],1))\n",
        "      NN = NN.tolist() \n",
        "      NN = list(itertools.chain(*NN)) \n",
        "    for i in set(NN):\n",
        "      if i in processed:\n",
        "        NN.remove(i)\n",
        "        pass\n",
        "      else:  \n",
        "        data[\"Heat\"][i] = heat_amount\n",
        "        processed.append(i)\n",
        "    heat_amount = heat_amount - 1\n",
        "    print(\"heat is: {}\".format(heat_amount))\n",
        "    source = list(set(NN))\n",
        "  return (data,indices)"
      ],
      "execution_count": 63,
      "outputs": []
    },
    {
      "cell_type": "code",
      "metadata": {
        "id": "4Yn7ZHQMq5MK"
      },
      "source": [
        "!wget http://graphics.stanford.edu/pub/3Dscanrep/bunny.tar.gz"
      ],
      "execution_count": null,
      "outputs": []
    },
    {
      "cell_type": "code",
      "metadata": {
        "id": "O-TrUF9vq-8E"
      },
      "source": [
        "!tar zxvf /content/bunny.tar.gz"
      ],
      "execution_count": null,
      "outputs": []
    },
    {
      "cell_type": "code",
      "metadata": {
        "id": "fMWeYMLMwupo"
      },
      "source": [
        "import robust_laplacian\n",
        "from plyfile import PlyData\n",
        "import numpy as np\n",
        "import polyscope as ps\n",
        "import scipy.sparse.linalg as sla\n",
        "\n",
        "# Read input\n",
        "plydata = PlyData.read(\"/content/bunny/reconstruction/bun_zipper_res2.ply\")\n",
        "point = np.vstack((\n",
        "    plydata['vertex']['x'],\n",
        "    plydata['vertex']['y'],\n",
        "    plydata['vertex']['z']\n",
        ")).T"
      ],
      "execution_count": 48,
      "outputs": []
    },
    {
      "cell_type": "code",
      "metadata": {
        "id": "Q0t5OzrLrnPI"
      },
      "source": [
        "### Use if you want to down sample your point cloud\r\n",
        "\r\n",
        "# print(point.shape[0])\r\n",
        "# a = np.random.randint(point.shape[0], size=int(point.shape[0]/.5))\r\n",
        "# x = np.delete(point, a, axis=0)\r\n",
        "# point = pd.DataFrame(x)\r\n",
        "# print(point.shape[0])"
      ],
      "execution_count": null,
      "outputs": []
    },
    {
      "cell_type": "code",
      "metadata": {
        "id": "QJrPf2yxljJ3"
      },
      "source": [
        "points = pd.DataFrame(point)\r\n",
        "(data,indices) = diffuse(points,1,70,10)"
      ],
      "execution_count": null,
      "outputs": []
    },
    {
      "cell_type": "code",
      "metadata": {
        "id": "mRYFpDD9p995"
      },
      "source": [
        "import plotly.express as px \r\n",
        "px.scatter_3d(x = data.iloc[:,0],  \r\n",
        "                    y = data.iloc[:,1],  \r\n",
        "                    z = data.iloc[:,2], \r\n",
        "                    color =  data[\"Heat\"],  \r\n",
        "                    # size='petal_length', \r\n",
        "                    # size_max = 20,  \r\n",
        "                    opacity = 1)  "
      ],
      "execution_count": null,
      "outputs": []
    }
  ]
}